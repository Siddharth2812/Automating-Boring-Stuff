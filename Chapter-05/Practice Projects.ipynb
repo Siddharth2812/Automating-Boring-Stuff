{
 "cells": [
  {
   "cell_type": "code",
   "execution_count": 19,
   "metadata": {},
   "outputs": [
    {
     "name": "stdout",
     "output_type": "stream",
     "text": [
      "{'I': 1, 't': 6, ' ': 13, 'w': 2, 'a': 4, 's': 3, 'b': 1, 'r': 5, 'i': 6, 'g': 2, 'h': 3, 'c': 3, 'o': 2, 'l': 3, 'd': 3, 'y': 1, 'n': 4, 'A': 1, 'p': 1, ',': 1, 'e': 5, 'k': 2, '.': 1}\n"
     ]
    }
   ],
   "source": [
    "message = 'It was a bright cold day in April, and the clocks were striking thirteen.'\n",
    "count = {}\n",
    "for character in message : \n",
    "    count.setdefault(character, 0)\n",
    "    count[character] +=1\n",
    "print(count)"
   ]
  },
  {
   "cell_type": "markdown",
   "metadata": {},
   "source": [
    "### Chess Dictionary Validator"
   ]
  },
  {
   "cell_type": "code",
   "execution_count": null,
   "metadata": {},
   "outputs": [],
   "source": [
    "arrangement = {'1h': 'bking', '6c': 'wqueen', '2g': 'bbishop', '5h': 'bqueen', '3e': 'wking'}\n",
    "possible_number = ['1', '2', '3', '4', '5', '6', '7', '8']\n",
    "possible_letter = ['a', 'b', 'c', 'd', 'e', 'f', 'g', 'h']\n",
    "\n",
    "\n",
    "def isValidChessBoard(board):\n",
    "    pieces = ['pawn', 'knight', 'bishop', 'rook', 'queen', 'king']\n",
    "    for coin in board.values():\n",
    "        if not (coin.startswith('w') or coin.startswith('b')):\n",
    "            return(False)\n",
    "        if coin[1:] not in pieces:\n",
    "            return(False)\n",
    "    for pos in board.keys():\n",
    "        if pos[:1] not in possible_number:\n",
    "            return(False)\n",
    "        if pos[1:] not in possible_letter:\n",
    "            return(False)\n",
    "            \n",
    "isValidChessBoard(arrangement)\n",
    "\n"
   ]
  },
  {
   "cell_type": "markdown",
   "metadata": {},
   "source": [
    "### FANTASY GAME INVENTORY"
   ]
  },
  {
   "cell_type": "code",
   "execution_count": 1,
   "metadata": {},
   "outputs": [
    {
     "name": "stdout",
     "output_type": "stream",
     "text": [
      "Inventory: \n",
      "1 rope\n",
      "6 torch\n",
      "42 gold coin\n",
      "1 dagger\n",
      "12 arrow\n",
      "\n",
      "Total number of items: 62\n"
     ]
    }
   ],
   "source": [
    "items = {'rope': 1, 'torch': 6, 'gold coin': 42, 'dagger': 1, 'arrow': 12}\n",
    "def displayInventory(Inventory):\n",
    "    print('Inventory: ')\n",
    "    for key, value in Inventory.items():\n",
    "        print(value, key)\n",
    "        a = sum(Inventory.values())\n",
    "    print('\\n''Total number of items: ' + str(a))\n",
    "displayInventory(items)"
   ]
  },
  {
   "cell_type": "markdown",
   "metadata": {},
   "source": [
    "### List to Dictionary Function for Fantasy Game Inventory"
   ]
  },
  {
   "cell_type": "code",
   "execution_count": 37,
   "metadata": {},
   "outputs": [
    {
     "name": "stdout",
     "output_type": "stream",
     "text": [
      "Inventory: \n",
      "45 gold coin\n",
      "1 rope\n",
      "1 dagger\n",
      "1 ruby\n",
      "\n",
      "\n",
      "Total number of items: 48\n"
     ]
    }
   ],
   "source": [
    "def addToInventory(inventory,newloot):\n",
    "    for i in range(len(newloot)):\n",
    "        if newloot[i] in inventory:\n",
    "            inventory[newloot[i]] = inventory[newloot[i]] + 1\n",
    "        else:\n",
    "            inventory.setdefault(newloot[i],1)\n",
    "    return inventory\n",
    "\n",
    "\n",
    "def displayInventory(inventory):\n",
    "    print('Inventory: ')\n",
    "    for key, value in inventory.items():\n",
    "        print(value, key)\n",
    "        a = sum(inventory.values())\n",
    "    print('\\n')\n",
    "    print('Total number of items: ' + str(a))\n",
    "\n",
    "\n",
    "inv = {'gold coin': 42, 'rope': 1}\n",
    "dragonloot = ['gold coin', 'dagger', 'gold coin', 'gold coin', 'ruby']\n",
    "\n",
    "addToInventory(inv, dragonloot)\n",
    "displayInventory(inv)"
   ]
  }
 ],
 "metadata": {
  "interpreter": {
   "hash": "916dbcbb3f70747c44a77c7bcd40155683ae19c65e1c03b4aa3499c5328201f1"
  },
  "kernelspec": {
   "display_name": "Python 3.8.10 64-bit",
   "language": "python",
   "name": "python3"
  },
  "language_info": {
   "codemirror_mode": {
    "name": "ipython",
    "version": 3
   },
   "file_extension": ".py",
   "mimetype": "text/x-python",
   "name": "python",
   "nbconvert_exporter": "python",
   "pygments_lexer": "ipython3",
   "version": "3.8.10"
  },
  "orig_nbformat": 4
 },
 "nbformat": 4,
 "nbformat_minor": 2
}
