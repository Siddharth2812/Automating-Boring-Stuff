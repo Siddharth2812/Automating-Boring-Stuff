{
 "cells": [
  {
   "cell_type": "markdown",
   "metadata": {},
   "source": [
    "## Chapter - 4 : LISTS\n",
    "### Comma Code  ::"
   ]
  },
  {
   "cell_type": "code",
   "execution_count": 49,
   "metadata": {},
   "outputs": [
    {
     "data": {
      "text/plain": [
       "'applse, bananas, tofu, and cats.'"
      ]
     },
     "execution_count": 49,
     "metadata": {},
     "output_type": "execute_result"
    }
   ],
   "source": [
    "def comma(x):\n",
    "    output = ''\n",
    "    for i in x[0:len(x)-1]:\n",
    "        output = output + str(i) + \", \"\n",
    "    if len(x)!=0:\n",
    "        output+='and '+ x[-1] + '.'\n",
    "    return output\n",
    "spam = list(input().split())\n",
    "comma(spam)\n",
    "\n"
   ]
  },
  {
   "cell_type": "markdown",
   "metadata": {},
   "source": [
    "### Coin Flip Streaks ::\n"
   ]
  },
  {
   "cell_type": "code",
   "execution_count": 93,
   "metadata": {},
   "outputs": [
    {
     "name": "stdout",
     "output_type": "stream",
     "text": [
      "Chance of streak: 2.5548%\n"
     ]
    }
   ],
   "source": [
    "import random\n",
    "numberOfStreaks = 0\n",
    "for experimentNumber in range(10000):\n",
    "    # Code that creates a list of 100 'heads' or 'tails' values.\n",
    "    streak = 0\n",
    "    flip_value = []\n",
    "    for i in range(100):\n",
    "        if random.randint(0,1)==0:\n",
    "            flip_value.append('T')\n",
    "        else:\n",
    "            flip_value.append('H')\n",
    "\n",
    "    # Code that checks if there is a streak of 6 heads or tails in a row.\n",
    "    for i in range(len(flip_value)):\n",
    "        if flip_value[i:i+6]==['H','H','H','H','H','H']:\n",
    "            streak+=1\n",
    "        elif flip_value[i:i+6]==['T', 'T', 'T', 'T', 'T', 'T']:\n",
    "            streak += 1\n",
    "        else:\n",
    "            streak+=0\n",
    "        if streak == 6:\n",
    "            numberOfStreaks+=1\n",
    "print('Chance of streak: %s%%' % (numberOfStreaks / (10000)))"
   ]
  },
  {
   "cell_type": "markdown",
   "metadata": {},
   "source": [
    "### Character Picture Grid::="
   ]
  },
  {
   "cell_type": "code",
   "execution_count": 119,
   "metadata": {},
   "outputs": [
    {
     "name": "stdout",
     "output_type": "stream",
     "text": [
      "..OO.OO..\n",
      "\n",
      ".OOOOOOO.\n",
      "\n",
      ".OOOOOOO.\n",
      "\n",
      "..OOOOO..\n",
      "\n",
      "...OOO...\n",
      "\n",
      "....O....\n",
      "\n"
     ]
    }
   ],
   "source": [
    "grid = [['.', '.', '.', '.', '.', '.'],\n",
    "        ['.', 'O', 'O', '.', '.', '.'],\n",
    "        ['O', 'O', 'O', 'O', '.', '.'],\n",
    "        ['O', 'O', 'O', 'O', 'O', '.'],\n",
    "        ['.', 'O', 'O', 'O', 'O', 'O'],\n",
    "        ['O', 'O', 'O', 'O', 'O', '.'],\n",
    "        ['O', 'O', 'O', 'O', '.', '.'],\n",
    "        ['.', 'O', 'O', '.', '.', '.'],\n",
    "        ['.', '.', '.', '.', '.', '.']]\n",
    "for i in range(len(grid)-3):\n",
    "    for j in grid:\n",
    "        print(j[i], end = '')\n",
    "    print('\\n')"
   ]
  }
 ],
 "metadata": {
  "interpreter": {
   "hash": "916dbcbb3f70747c44a77c7bcd40155683ae19c65e1c03b4aa3499c5328201f1"
  },
  "kernelspec": {
   "display_name": "Python 3.8.10 64-bit",
   "language": "python",
   "name": "python3"
  },
  "language_info": {
   "codemirror_mode": {
    "name": "ipython",
    "version": 3
   },
   "file_extension": ".py",
   "mimetype": "text/x-python",
   "name": "python",
   "nbconvert_exporter": "python",
   "pygments_lexer": "ipython3",
   "version": "3.8.10"
  },
  "orig_nbformat": 4
 },
 "nbformat": 4,
 "nbformat_minor": 2
}
