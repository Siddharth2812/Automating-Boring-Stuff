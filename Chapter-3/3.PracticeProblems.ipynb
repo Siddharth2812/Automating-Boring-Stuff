{
 "cells": [
  {
   "cell_type": "markdown",
   "metadata": {},
   "source": [
    "# Practice Questions\n",
    "1. Why are functions advantageous to have in your programs?\n",
    "\n",
    "        Once we define a function we can use the function instead of rewriting the whole code \n",
    "2. When does the code in a function execute: when the function is defined or when the function is called?\n",
    "\n",
    "    Function executes when it is Called  .\n",
    "3. What statement creates a function?\n",
    "\n",
    "    def\n",
    "\n",
    "4. What is the difference between a function and a function call?\n",
    "\n",
    "    Function is where we define a function(write its code), using function call we execute the code we defined.\n",
    "5. How many global scopes are there in a Python program? How many local scopes?\n",
    "\n",
    "        Only one Global Scope , And a local scope can be created one for each funtion \n",
    "6. What happens to variables in a local scope when the function call returns?\n",
    "\n",
    "    When local scope returns, it removes/kills the variable after use.  .\n",
    "7. What is a return value? Can a return value be part of an expression?\n",
    "\n",
    "    Return is used to end the function execution and give the result of the function.\n",
    "    \n",
    "8. If a function does not have a return statement, what is the return value of a call to that function?\n",
    "\n",
    "    None  .\n",
    "9. How can you force a variable in a function to refer to the global variable?\n",
    "\n",
    "    USing global statement : global(variable) \n",
    "    \n",
    "10. What is the data type of None?\n",
    "\n",
    "    Null Value or None Type. \n",
    "11. What does the import areallyourpetsnamederic statement do?\n",
    "\n",
    "    It imports the module called areallyourpetsnamederic \n",
    "12. If you had a function named bacon() in a module named spam, how would you call it after importing spam?\n",
    "\n",
    "    spam.bacon()\n",
    "13. How can you prevent a program from crashing when it gets an error?\n",
    "\n",
    "    We use exeption handling methods like try-except\n",
    "14. What goes in the try clause? What goes in the except clause?\n",
    "\n",
    "    In Try : we use code which could lead to error.\n",
    "    In Except: the code runs after error is occured."
   ]
  },
  {
   "cell_type": "markdown",
   "metadata": {},
   "source": []
  }
 ],
 "metadata": {
  "language_info": {
   "name": "python"
  },
  "orig_nbformat": 4
 },
 "nbformat": 4,
 "nbformat_minor": 2
}
