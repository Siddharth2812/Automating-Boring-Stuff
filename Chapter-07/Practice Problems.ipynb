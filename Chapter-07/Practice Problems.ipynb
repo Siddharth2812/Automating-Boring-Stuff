{
 "cells": [
  {
   "cell_type": "markdown",
   "metadata": {},
   "source": [
    "  # Practice Questions\n",
    "1. What is the function that creates Regex objects?\n",
    "> re.compile()\n",
    "2. Why are raw strings often used when creating Regex objects?\n",
    "> So that the backslash(\\) wont be considered as a escape character\n",
    "3. What does the search() method return?\n",
    "> Looks for the pattern given in the regex object and returns the value matching the pattern.\n",
    "4. How do you get the actual strings that match the pattern from a Match object?\n",
    "> variable.group()\n",
    "5. In the regex created from r'(\\d\\d\\d)-(\\d\\d\\d-\\d\\d\\d\\d)', what does group 0 cover? Group 1? Group 2?\n",
    "> Group-0 : Entire group of the string that matched the given pattern.\n",
    "<br>\n",
    "> Group-1 : The 1st set of pattern i.e. (\\d\\d\\d)\n",
    "<br>\n",
    "> Group-2 : The second set of pattern i.e. (\\d\\d\\d - \\d\\d\\d\\d)\n",
    "\n",
    "6. Parentheses and periods have specific meanings in regular expression syntax. How would you specify that you want a regex to match actual parentheses and period characters?\n",
    "> By adding a backslash(\\\\) before it like \\\\. and \\\\( & \\\\)\n",
    "7. The findall() method returns a list of strings or a list of tuples of strings. What makes it return one or the other?\n",
    "> findall() method returns a list of strings if the given regular expression doesnt consist of groups. If groups are present in the given regualr expresssion findall() method returns a list of tuples to represent each tuple and what group it belongs to in the regex\n",
    "8. What does the | character signify in regular expressions?\n",
    "> It is called a pipe and used as or statement (optional matching)\n",
    "9. What two things does the ? character signify in regular expressions?\n",
    "> We can use it to match either both the groups or only the other part of group.\n",
    "10. What is the difference between the + and * characters in regular expressions?\n",
    "> \\+ is used to match one or more repetetions (It requires atleast one repetetion)\n",
    "> \\* is used to match zero or more repetetions\n",
    "11. What is the difference between {3} and {3,5} in regular expressions?\n",
    "> {3} : Is used to check for 3 repetetions\n",
    "> {3, 5} : Is used to check for 3 - 5 repetetions \n",
    "12. What do the \\d, \\w, and \\s shorthand character classes signify in regular expressions?\n",
    "> \\\\d : Any numeric digit from 0-9.\n",
    "> \\\\w : Any letter, numeric digit or'_' character.\n",
    "> \\\\s : Any space, tab, or new line character.\n",
    "13. What do the \\D, \\W, and \\S shorthand character classes signify in regular expressions?\n",
    "> \\\\D : Any character that is not a numeric digit from 0-9.\n",
    "> \\\\W : Any character that is not a letter, numeric digit or the underscore.\n",
    "> \\\\S : Any character that is not a space,tab or a new line.\n",
    "14. What is the difference between .* and .*??\n",
    "> .* : Greedy matched regex\n",
    "> .*? : Non-Greedy matched regex\n",
    "15. What is the character class syntax to match all numbers and lowercase letters?\n",
    "> \\[a-z0-9]\n",
    "16. How do you make a regular expression case-insensitive?\n",
    ">  Passing re.I or re.IGNORECASE as second argument to re.compile\n",
    "17. What does the . character normally match? What does it match if re.DOTALL is passed as the second argument to re.compile()?\n",
    "> . Character normally matches any character except newline character. re.DOTAALL is passed as second argument to re.compile(), then the. will also ,match the newline characters.\n",
    "18. If numRegex = re.compile(r'\\d+'), what will numRegex.sub('X', '12 drummers, 11 pipers, five rings, 3 hens') return?\n",
    "> [\\'X drummers, X pipers, five rings, X hens]\n",
    "19. What does passing re.VERBOSE as the second argument to re.compile() allow you to do?\n",
    "> the re.VERBOSE argument allows you to add whitespace and comments to the string passed to re.compile()\n",
    "\n",
    "\n"
   ]
  },
  {
   "cell_type": "markdown",
   "metadata": {},
   "source": [
    "20. How would you write a regex that matches a number with commas for every three digits? It must match the following:\n",
    "\n",
    "'42'\n",
    "'1,234'\n",
    "'6,368,745'\n",
    "but not the following:\n",
    "\n",
    "'12,34,567' (which has only two digits between the commas)\n",
    "'1234' (which lacks commas)\n",
    "\n",
    "> re.compile(r'^\\d{1,3}(,\\d{3})*$')\n"
   ]
  },
  {
   "cell_type": "markdown",
   "metadata": {},
   "source": [
    "21. How would you write a regex that matches the full name of someone whose last name is Watanabe? You can assume that the first name that comes before it will always be one word that begins with a capital letter. The regex must match the following:\n",
    "\n",
    "'Haruto Watanabe'\n",
    "'Alice Watanabe'\n",
    "'RoboCop Watanabe'\n",
    "but not the following:\n",
    "\n",
    "'haruto Watanabe' (where the first name is not capitalized)\n",
    "'Mr. Watanabe' (where the preceding word has a nonletter character)\n",
    "'Watanabe' (which has no first name)\n",
    "'Haruto watanabe' (where Watanabe is not capitalized)\n",
    "\n",
    "\n",
    ">  re.compile(r'\\[A-Z\\]\\[a-z\\]\\\\*Watanabe')"
   ]
  },
  {
   "cell_type": "markdown",
   "metadata": {},
   "source": [
    "22. How would you write a regex that matches a sentence where the first word is either Alice, Bob, or Carol; the second word is either eats, pets, or throws; the third word is apples, cats, or baseballs; and the sentence ends with a period? This regex should be case-insensitive. It must match the following:\n",
    "\n",
    "'Alice eats apples.'\n",
    "'Bob pets cats.'\n",
    "'Carol throws baseballs.'\n",
    "'Alice throws Apples.'\n",
    "'BOB EATS CATS.'\n",
    "but not the following:\n",
    "\n",
    "'RoboCop eats apples.'\n",
    "'ALICE THROWS FOOTBALLS.'\n",
    "'Carol eats 7 cats.'\n",
    "\n",
    "> re.compile(r'(Alice|Bob|Carol)\\s(eats|pets|throws)\\s(apples|cats|baseballs)\\\\.', re.IGNORECASE)"
   ]
  }
 ],
 "metadata": {
  "interpreter": {
   "hash": "916dbcbb3f70747c44a77c7bcd40155683ae19c65e1c03b4aa3499c5328201f1"
  },
  "kernelspec": {
   "display_name": "Python 3.8.10 64-bit",
   "language": "python",
   "name": "python3"
  },
  "language_info": {
   "codemirror_mode": {
    "name": "ipython",
    "version": 3
   },
   "file_extension": ".py",
   "mimetype": "text/x-python",
   "name": "python",
   "nbconvert_exporter": "python",
   "pygments_lexer": "ipython3",
   "version": "3.8.10"
  },
  "orig_nbformat": 4
 },
 "nbformat": 4,
 "nbformat_minor": 2
}
