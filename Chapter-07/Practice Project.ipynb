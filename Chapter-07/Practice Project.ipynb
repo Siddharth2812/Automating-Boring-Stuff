{
 "cells": [
  {
   "cell_type": "markdown",
   "metadata": {},
   "source": [
    "## Strong Password Detection"
   ]
  },
  {
   "cell_type": "code",
   "execution_count": null,
   "metadata": {},
   "outputs": [
    {
     "name": "stdout",
     "output_type": "stream",
     "text": [
      " Enter your Password: \n",
      "The password is weak, enter a new one.\n"
     ]
    }
   ],
   "source": [
    "import re\n",
    "\n",
    "def passwordChecker(password):\n",
    "    if len(password) < 8:\n",
    "        return False\n",
    "    lowerCase = re.compile(r'[a-z]')\n",
    "    if not (lowerCase.search(password)):\n",
    "        return False\n",
    "    upperCase = re.compile(r'[A-Z]')\n",
    "    if not (upperCase.search(password)):\n",
    "        return False\n",
    "    digits = re.compile(r'\\d')\n",
    "    if not (digits.search(password)):\n",
    "        return False\n",
    "    else:\n",
    "        return True\n",
    "\n",
    "print(\" Enter your Password: \")\n",
    "password = input()\n",
    "passwordChecker(password)\n",
    "if passwordChecker(password):\n",
    "    print(\"Its a strong Password\")\n",
    "else:\n",
    "    print(\"The password is weak, enter a new one.\")\n",
    "    "
   ]
  },
  {
   "cell_type": "markdown",
   "metadata": {},
   "source": [
    "### Regex Version of the strip() Method"
   ]
  },
  {
   "cell_type": "code",
   "execution_count": null,
   "metadata": {},
   "outputs": [
    {
     "name": "stdout",
     "output_type": "stream",
     "text": [
      "thisiiiiiisiiiiiianotheriiiiiiitest\n"
     ]
    }
   ],
   "source": [
    "import re\n",
    "\n",
    "def StripRE(string, char = ' '):\n",
    "    regex = re.compile(r'[^'+char+'].*[^'+char+']')\n",
    "    mo = regex.search(string)\n",
    "    return mo.group()\n",
    "\n",
    "\n",
    "string = input() \n",
    "char = input()\n",
    "result = StripRE(string, char)\n",
    "print(result)\n",
    "\n"
   ]
  },
  {
   "cell_type": "markdown",
   "metadata": {},
   "source": [
    "### Date Detection"
   ]
  },
  {
   "cell_type": "code",
   "execution_count": null,
   "metadata": {},
   "outputs": [
    {
     "name": "stdout",
     "output_type": "stream",
     "text": [
      "28/12/2003\n",
      "The date is valid\n"
     ]
    }
   ],
   "source": [
    "import re\n",
    "\n",
    "text = str(input())\n",
    "dateRegex = re.compile(r'([0-3][0-9])/([0][1-9]|[1][12])/([1-2][0-9]{3})')\n",
    "dates = dateRegex.findall(text)\n",
    "\n",
    "days, months, years = [], [], []\n",
    "\n",
    "for groups in dates:\n",
    "    days.append(groups[0])\n",
    "    months.append(groups[1])\n",
    "    years.append(groups[2])\n",
    "\n",
    "def is_leap_year(year):\n",
    "    year = int(year)\n",
    "    if year % 4 == 0:\n",
    "        if year % 100 == 0:\n",
    "            return year % 400 == 0\n",
    "        else:\n",
    "            return True\n",
    "    else:\n",
    "        return False\n",
    "\n",
    "def is_valid_date(day, month, year):\n",
    "    if month == '02':\n",
    "        if is_leap_year(year):\n",
    "            return int(day) <= 29\n",
    "        else:\n",
    "            return int(day) <= 28\n",
    "    elif month in ['04', '06', '09', '11']:\n",
    "        return int(day) <= 30\n",
    "    else:\n",
    "        return int(day) <= 31\n",
    "\n",
    "valid_dates = ''\n",
    "for i in range(len(dates)):\n",
    "    day, month, year = dates[i][0], dates[i][1], dates[i][2]\n",
    "    if is_valid_date(day, month, year):\n",
    "        valid_dates+=(f'{day}/{month}/{year}')\n",
    "\n",
    "if len(valid_dates) > 0:\n",
    "    for date in valid_dates:\n",
    "        print(date,end='')\n",
    "    print('\\nThe date is valid')\n",
    "    \n",
    "else:\n",
    "    print('The date is not valid.')\n",
    "    print(text)"
   ]
  }
 ],
 "metadata": {
  "interpreter": {
   "hash": "916dbcbb3f70747c44a77c7bcd40155683ae19c65e1c03b4aa3499c5328201f1"
  },
  "kernelspec": {
   "display_name": "Python 3.8.10 64-bit",
   "language": "python",
   "name": "python3"
  },
  "language_info": {
   "codemirror_mode": {
    "name": "ipython",
    "version": 3
   },
   "file_extension": ".py",
   "mimetype": "text/x-python",
   "name": "python",
   "nbconvert_exporter": "python",
   "pygments_lexer": "ipython3",
   "version": "3.8.10"
  },
  "orig_nbformat": 4
 },
 "nbformat": 4,
 "nbformat_minor": 2
}
