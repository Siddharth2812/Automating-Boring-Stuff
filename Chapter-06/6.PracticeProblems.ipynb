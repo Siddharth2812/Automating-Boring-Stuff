{
 "cells": [
  {
   "cell_type": "markdown",
   "metadata": {},
   "source": [
    "# Practice Questions\n",
    "1. What are escape characters?\n",
    "\n",
    "     These are the characters which cannot be used inside of a string normally(ex: '' / \\t \\n etc) \n",
    "\n",
    "2. What do the \\n and \\t escape characters represent?\n",
    "\n",
    "     \\n : next/new line\n",
    "     \\t : Tab Space\n",
    "3. How can you put a \\ backslash character in a string?\n",
    "\n",
    "     \\\\\n",
    "\n",
    "4. The string value \"Howl's Moving Castle\" is a valid string. Why isn’t it a problem that the single quote character in the word Howl's isn’t escaped?\n",
    "\n",
    "     Because we used \"\" to write the string value.\n",
    "5. If you don’t want to put \\n in your string, how can you write a string with newlines in it?\n",
    "\n",
    "     We can use \"\"\" \"\"\" to enter a multi line string without using \\n to go to a next line.\n",
    "6. What do the following expressions evaluate to?\n",
    "\n",
    "        'Hello, world!'[1]   : e\n",
    "        'Hello, world!'[0:5] : Hello\n",
    "        'Hello, world!'[:5]  : Hello\n",
    "        'Hello, world!'[3:]  : lo, World!\n",
    "\n",
    "7. What do the following expressions evaluate to?\n",
    "\n",
    "        'Hello'.upper()            : 'HELLO\"\n",
    "        'Hello'.upper().isupper()  : True\n",
    "        'Hello'.upper().lower()    : 'hello'\n",
    "8. What do the following expressions evaluate to?\n",
    "\n",
    "        'Remember, remember, the fifth of November.'.split() : \n ['Remember,', 'remember,', 'the', 'fifth', 'of', 'November.']\n",
    "        '-'.join('There can be only one.'.split())           : There-can-be-only-one\n",
    "9. What string methods can you use to right-justify, left-justify, and center a string?\n",
    "\n",
    "     .rjust()\n",
    "     .ljust()\n",
    "     .center()\n",
    "10. How can you trim whitespace characters from the beginning or end of a string?\n",
    "\n",
    "     .lstrip() : for trimming in beginnig\n",
    "     .rstrip() : for trimming at the end\n"
   ]
  }
 ],
 "metadata": {
  "language_info": {
   "name": "python"
  },
  "orig_nbformat": 4
 },
 "nbformat": 4,
 "nbformat_minor": 2
}
