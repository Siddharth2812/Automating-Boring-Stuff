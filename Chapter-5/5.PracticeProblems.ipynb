{
 "cells": [
  {
   "cell_type": "markdown",
   "metadata": {},
   "source": [
    "# Practice Questions\n",
    "1. What does the code for an empty dictionary look like?\n",
    "\n",
    "     { }\n",
    "\n",
    "2. What does a dictionary value with a key 'foo' and a value 42 look like?\n",
    "\n",
    "     {'foo' : 42}\n",
    "\n",
    "3. What is the main difference between a dictionary and a list?\n",
    "\n",
    "     Elements in a lsit are accessed using indices, in dictionaries they can be accesed by using key/values.\n",
    "\n",
    "4. What happens if you try to access spam['foo'] if spam is {'bar': 100}?\n",
    "\n",
    "     KeyError\n",
    "\n",
    "5. If a dictionary is stored in spam, what is the difference between the expressions 'cat' in spam and 'cat' in spam.keys()?\n",
    "\n",
    "     No difference . They both check if 'cat' is present in spam\n",
    "\n",
    "6. If a dictionary is stored in spam, what is the difference between the expressions 'cat' in spam and 'cat' in spam.values()?\n",
    "    \n",
    "     'cat' in spam checks wheter there is a 'cat' in both keys and values.\n",
    "     But 'cat' in spam.keys() Checks only in keys of spam\n",
    "     \n",
    "7. What is a shortcut for the following code?\n",
    "\n",
    "if 'color' not in spam:\n",
    "    spam['color'] = 'black'\n",
    "\n",
    "     spam.setdefault('color' : 'black')\n",
    "\n",
    "8. What module and function can be used to “pretty print” dictionary values?\n",
    "\n",
    "     pprint.pprint()\n",
    "\n"
   ]
  },
  {
   "cell_type": "markdown",
   "metadata": {},
   "source": []
  }
 ],
 "metadata": {
  "language_info": {
   "name": "python"
  },
  "orig_nbformat": 4
 },
 "nbformat": 4,
 "nbformat_minor": 2
}
